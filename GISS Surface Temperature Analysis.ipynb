{
 "cells": [
  {
   "cell_type": "code",
   "execution_count": 1,
   "metadata": {},
   "outputs": [],
   "source": [
    "import numpy as np\n",
    "from collections import OrderedDict\n",
    "\n",
    "import pandas as pd\n",
    "\n",
    "import matplotlib.pyplot as plt\n",
    "from matplotlib.patches import Rectangle\n",
    "from matplotlib.colors import *\n",
    "%matplotlib inline\n",
    "\n",
    "from ipywidgets import interact, interactive, IntSlider, Layout, interact_manual\n",
    "import ipywidgets as widgets\n",
    "from IPython.display import display\n",
    "\n",
    "from sklearn.linear_model import LinearRegression"
   ]
  },
  {
   "cell_type": "markdown",
   "metadata": {},
   "source": [
    "# Data loading and preparation"
   ]
  },
  {
   "cell_type": "code",
   "execution_count": 2,
   "metadata": {},
   "outputs": [],
   "source": [
    "# Global Temperature\n",
    "dts_global_df = pd.read_csv( './data/GLB.Ts.csv', na_values = [ '***' ] )"
   ]
  },
  {
   "cell_type": "code",
   "execution_count": 3,
   "metadata": {},
   "outputs": [],
   "source": [
    "# Temperature by Hemisphere\n",
    "dts_northern_df = pd.read_csv( './data/NH.Ts.csv', na_values = [ '***' ] )\n",
    "dts_southern_df = pd.read_csv( './data/SH.Ts.csv', na_values = [ '***' ] )"
   ]
  },
  {
   "cell_type": "code",
   "execution_count": 4,
   "metadata": {},
   "outputs": [],
   "source": [
    "nino_nina_df = pd.read_csv( './data/nino-nina-periods.csv' )"
   ]
  },
  {
   "cell_type": "code",
   "execution_count": 5,
   "metadata": {},
   "outputs": [],
   "source": [
    "dts_global_df = dts_global_df[ [ dts_global_df.columns[ 0 ] ] + dts_global_df.columns[ -4: ].tolist() ]\n",
    "dts_northern_df = dts_northern_df[ [ dts_northern_df.columns[ 0 ] ] + dts_northern_df.columns[ -4: ].tolist() ]\n",
    "dts_southern_df = dts_southern_df[ [ dts_southern_df.columns[ 0 ] ] + dts_southern_df.columns[ -4: ].tolist() ]"
   ]
  },
  {
   "cell_type": "code",
   "execution_count": 6,
   "metadata": {},
   "outputs": [],
   "source": [
    "dts_global_df = dts_global_df.loc[ dts_global_df[ 'Year' ] >= 2002 ]\n",
    "dts_northern_df = dts_northern_df.loc[ dts_northern_df[ 'Year' ] >= 2002 ]\n",
    "dts_southern_df = dts_southern_df.loc[ dts_southern_df[ 'Year' ] >= 2002 ]"
   ]
  },
  {
   "cell_type": "code",
   "execution_count": 7,
   "metadata": {},
   "outputs": [],
   "source": [
    "dts_global_df = dts_global_df.set_index( 'Year' ).unstack().reset_index()[ [ 'Year', 'level_0', 0 ] ] \\\n",
    "    .sort_values( by = 'Year' ).rename( columns = { 'level_0' : 'Season', 0 : 'Temperature' } )\n",
    "\n",
    "dts_northern_df = dts_northern_df.set_index( 'Year' ).unstack().reset_index()[ [ 'Year', 'level_0', 0 ] ] \\\n",
    "    .sort_values( by = 'Year' ).rename( columns = { 'level_0' : 'Season', 0 : 'Temperature' } )\n",
    "\n",
    "dts_southern_df = dts_southern_df.set_index( 'Year' ).unstack().reset_index()[ [ 'Year', 'level_0', 0 ] ] \\\n",
    "    .sort_values( by = 'Year' ).rename( columns = { 'level_0' : 'Season', 0 : 'Temperature' } )"
   ]
  },
  {
   "cell_type": "code",
   "execution_count": 8,
   "metadata": {},
   "outputs": [],
   "source": [
    "dts_global_df.loc[ dts_global_df[ 'Season' ] == 'DJF', 'Season' ] = 1\n",
    "dts_global_df.loc[ dts_global_df[ 'Season' ] == 'MAM', 'Season' ] = 2\n",
    "dts_global_df.loc[ dts_global_df[ 'Season' ] == 'JJA', 'Season' ] = 3\n",
    "dts_global_df.loc[ dts_global_df[ 'Season' ] == 'SON', 'Season' ] = 4\n",
    "\n",
    "dts_northern_df.loc[ dts_northern_df[ 'Season' ] == 'DJF', 'Season' ] = 1\n",
    "dts_northern_df.loc[ dts_northern_df[ 'Season' ] == 'MAM', 'Season' ] = 2\n",
    "dts_northern_df.loc[ dts_northern_df[ 'Season' ] == 'JJA', 'Season' ] = 3\n",
    "dts_northern_df.loc[ dts_northern_df[ 'Season' ] == 'SON', 'Season' ] = 4\n",
    "\n",
    "dts_southern_df.loc[ dts_southern_df[ 'Season' ] == 'DJF', 'Season' ] = 1\n",
    "dts_southern_df.loc[ dts_southern_df[ 'Season' ] == 'MAM', 'Season' ] = 2\n",
    "dts_southern_df.loc[ dts_southern_df[ 'Season' ] == 'JJA', 'Season' ] = 3\n",
    "dts_southern_df.loc[ dts_southern_df[ 'Season' ] == 'SON', 'Season' ] = 4"
   ]
  },
  {
   "cell_type": "code",
   "execution_count": 9,
   "metadata": {},
   "outputs": [],
   "source": [
    "dts_global_df.sort_values( by = [ 'Year', 'Season' ], inplace = True )\n",
    "dts_northern_df.sort_values( by = [ 'Year', 'Season' ], inplace = True )\n",
    "dts_southern_df.sort_values( by = [ 'Year', 'Season' ], inplace = True )"
   ]
  },
  {
   "cell_type": "code",
   "execution_count": 10,
   "metadata": {},
   "outputs": [],
   "source": [
    "dts_global_df[ 'Year-Season' ] = dts_global_df[ 'Year' ].astype( str ) + '-' + dts_global_df[ 'Season' ].astype( str )\n",
    "dts_northern_df[ 'Year-Season' ] = dts_northern_df[ 'Year' ].astype( str ) + '-' + dts_northern_df[ 'Season' ].astype( str )\n",
    "dts_southern_df[ 'Year-Season' ] = dts_southern_df[ 'Year' ].astype( str ) + '-' + dts_southern_df[ 'Season' ].astype( str )"
   ]
  },
  {
   "cell_type": "code",
   "execution_count": 11,
   "metadata": {},
   "outputs": [
    {
     "data": {
      "text/html": [
       "<div>\n",
       "<style scoped>\n",
       "    .dataframe tbody tr th:only-of-type {\n",
       "        vertical-align: middle;\n",
       "    }\n",
       "\n",
       "    .dataframe tbody tr th {\n",
       "        vertical-align: top;\n",
       "    }\n",
       "\n",
       "    .dataframe thead th {\n",
       "        text-align: right;\n",
       "    }\n",
       "</style>\n",
       "<table border=\"1\" class=\"dataframe\">\n",
       "  <thead>\n",
       "    <tr style=\"text-align: right;\">\n",
       "      <th></th>\n",
       "      <th>Year</th>\n",
       "      <th>Season</th>\n",
       "      <th>Temperature</th>\n",
       "      <th>Year-Season</th>\n",
       "    </tr>\n",
       "  </thead>\n",
       "  <tbody>\n",
       "    <tr>\n",
       "      <th>66</th>\n",
       "      <td>2017</td>\n",
       "      <td>4</td>\n",
       "      <td>1.06</td>\n",
       "      <td>2017-4</td>\n",
       "    </tr>\n",
       "    <tr>\n",
       "      <th>16</th>\n",
       "      <td>2018</td>\n",
       "      <td>1</td>\n",
       "      <td>1.10</td>\n",
       "      <td>2018-1</td>\n",
       "    </tr>\n",
       "    <tr>\n",
       "      <th>33</th>\n",
       "      <td>2018</td>\n",
       "      <td>2</td>\n",
       "      <td>1.15</td>\n",
       "      <td>2018-2</td>\n",
       "    </tr>\n",
       "    <tr>\n",
       "      <th>50</th>\n",
       "      <td>2018</td>\n",
       "      <td>3</td>\n",
       "      <td>0.97</td>\n",
       "      <td>2018-3</td>\n",
       "    </tr>\n",
       "    <tr>\n",
       "      <th>67</th>\n",
       "      <td>2018</td>\n",
       "      <td>4</td>\n",
       "      <td>NaN</td>\n",
       "      <td>2018-4</td>\n",
       "    </tr>\n",
       "  </tbody>\n",
       "</table>\n",
       "</div>"
      ],
      "text/plain": [
       "    Year  Season  Temperature Year-Season\n",
       "66  2017       4         1.06      2017-4\n",
       "16  2018       1         1.10      2018-1\n",
       "33  2018       2         1.15      2018-2\n",
       "50  2018       3         0.97      2018-3\n",
       "67  2018       4          NaN      2018-4"
      ]
     },
     "execution_count": 11,
     "metadata": {},
     "output_type": "execute_result"
    }
   ],
   "source": [
    "dts_global_df.tail()"
   ]
  },
  {
   "cell_type": "code",
   "execution_count": 12,
   "metadata": {},
   "outputs": [
    {
     "data": {
      "text/html": [
       "<div>\n",
       "<style scoped>\n",
       "    .dataframe tbody tr th:only-of-type {\n",
       "        vertical-align: middle;\n",
       "    }\n",
       "\n",
       "    .dataframe tbody tr th {\n",
       "        vertical-align: top;\n",
       "    }\n",
       "\n",
       "    .dataframe thead th {\n",
       "        text-align: right;\n",
       "    }\n",
       "</style>\n",
       "<table border=\"1\" class=\"dataframe\">\n",
       "  <thead>\n",
       "    <tr style=\"text-align: right;\">\n",
       "      <th></th>\n",
       "      <th>Period-Min</th>\n",
       "      <th>Period-Max</th>\n",
       "      <th>Event</th>\n",
       "      <th>Level</th>\n",
       "    </tr>\n",
       "  </thead>\n",
       "  <tbody>\n",
       "    <tr>\n",
       "      <th>8</th>\n",
       "      <td>2009-1</td>\n",
       "      <td>2009-2</td>\n",
       "      <td>La Niña</td>\n",
       "      <td>Slight</td>\n",
       "    </tr>\n",
       "    <tr>\n",
       "      <th>9</th>\n",
       "      <td>2010-3</td>\n",
       "      <td>2011-2</td>\n",
       "      <td>La Niña</td>\n",
       "      <td>Strong</td>\n",
       "    </tr>\n",
       "    <tr>\n",
       "      <th>10</th>\n",
       "      <td>2011-4</td>\n",
       "      <td>2012-2</td>\n",
       "      <td>La Niña</td>\n",
       "      <td>Slight</td>\n",
       "    </tr>\n",
       "    <tr>\n",
       "      <th>11</th>\n",
       "      <td>2016-3</td>\n",
       "      <td>2016-4</td>\n",
       "      <td>La Niña</td>\n",
       "      <td>Slight</td>\n",
       "    </tr>\n",
       "    <tr>\n",
       "      <th>12</th>\n",
       "      <td>2017-4</td>\n",
       "      <td>2018-2</td>\n",
       "      <td>La Niña</td>\n",
       "      <td>Medium</td>\n",
       "    </tr>\n",
       "  </tbody>\n",
       "</table>\n",
       "</div>"
      ],
      "text/plain": [
       "   Period-Min Period-Max    Event   Level\n",
       "8      2009-1     2009-2  La Niña  Slight\n",
       "9      2010-3     2011-2  La Niña  Strong\n",
       "10     2011-4     2012-2  La Niña  Slight\n",
       "11     2016-3     2016-4  La Niña  Slight\n",
       "12     2017-4     2018-2  La Niña  Medium"
      ]
     },
     "execution_count": 12,
     "metadata": {},
     "output_type": "execute_result"
    }
   ],
   "source": [
    "nino_nina_df.tail()"
   ]
  },
  {
   "cell_type": "markdown",
   "metadata": {},
   "source": [
    "# Calculate Trending"
   ]
  },
  {
   "cell_type": "code",
   "execution_count": 13,
   "metadata": {},
   "outputs": [],
   "source": [
    "dts_global_df = dts_global_df.reset_index()\n",
    "del dts_global_df[ 'index' ]\n",
    "global_model = LinearRegression( normalize = True )\n",
    "X = np.reshape( dts_global_df.index, ( len( dts_global_df.index ), 1 ) )\n",
    "global_model.fit( X[ :-1 ], dts_global_df[ 'Temperature' ][ :-1 ] ) \n",
    "dts_global_df[ 'Trend' ] = global_model.predict( X )"
   ]
  },
  {
   "cell_type": "code",
   "execution_count": 14,
   "metadata": {},
   "outputs": [],
   "source": [
    "dts_northern_df = dts_northern_df.reset_index()\n",
    "del dts_northern_df[ 'index' ]\n",
    "northern_model = LinearRegression( normalize = True )\n",
    "X = np.reshape( dts_northern_df.index, ( len( dts_northern_df.index ), 1 ) )\n",
    "northern_model.fit( X[ :-1 ], dts_northern_df[ 'Temperature' ][ :-1 ] ) \n",
    "dts_northern_df[ 'Trend' ] = northern_model.predict( X )"
   ]
  },
  {
   "cell_type": "code",
   "execution_count": 15,
   "metadata": {},
   "outputs": [],
   "source": [
    "dts_southern_df = dts_southern_df.reset_index()\n",
    "del dts_southern_df[ 'index' ]\n",
    "southern_model = LinearRegression( normalize = True )\n",
    "X = np.reshape( dts_southern_df.index, ( len( dts_southern_df.index ), 1 ) )\n",
    "southern_model.fit( X[ :-1 ], dts_southern_df[ 'Temperature' ][ :-1 ] ) \n",
    "dts_southern_df[ 'Trend' ] = southern_model.predict( X )"
   ]
  },
  {
   "cell_type": "markdown",
   "metadata": {},
   "source": [
    "# Visualization"
   ]
  },
  {
   "cell_type": "code",
   "execution_count": 16,
   "metadata": {},
   "outputs": [],
   "source": [
    "# https://matplotlib.org/examples/color/colormaps_reference.html\n",
    "def get_color( i ):\n",
    "    cmap = plt.get_cmap( 'RdBu' )\n",
    "    return rgb2hex( cmap( i )[ :3 ] )"
   ]
  },
  {
   "cell_type": "code",
   "execution_count": 17,
   "metadata": {},
   "outputs": [],
   "source": [
    "c_nino = { 'Slight': get_color( .4 ), 'Medium' : get_color( .3 ), 'Strong' : get_color( .2 ), 'Meganiño' : get_color( .1 ) }\n",
    "c_nina = { 'Slight': get_color( .6 ), 'Medium' : get_color( .7 ), 'Strong' : get_color( .8 ), 'Meganiña' : get_color( .9 ) }"
   ]
  },
  {
   "cell_type": "code",
   "execution_count": 20,
   "metadata": {},
   "outputs": [],
   "source": [
    "def show_graph( global_selected, northern_selected, southern_selected ):\n",
    "    \n",
    "    plt.figure( figsize = ( 20, 7 ) )\n",
    "    \n",
    "    if global_selected:\n",
    "        plt.plot( dts_global_df[ 'Year-Season' ], dts_global_df[ 'Temperature' ], color = 'green', label = 'Global' )\n",
    "        plt.plot( dts_global_df[ 'Year-Season' ], dts_global_df[ 'Trend' ], color = 'green', alpha = 0.5, linestyle = '--', label = '' )\n",
    "\n",
    "    if northern_selected:\n",
    "        plt.plot( dts_northern_df[ 'Year-Season' ], dts_northern_df[ 'Temperature' ], color = 'orange', label = 'Northern Hemisphere' )\n",
    "        plt.plot( dts_northern_df[ 'Year-Season' ], dts_northern_df[ 'Trend' ], color = 'orange', alpha = .8, linestyle = '--', label = '' )\n",
    "    \n",
    "    if southern_selected:\n",
    "        plt.plot( dts_southern_df[ 'Year-Season' ], dts_southern_df[ 'Temperature' ], color = 'purple', label = 'Southern Hemisphere' )\n",
    "        plt.plot( dts_southern_df[ 'Year-Season' ], dts_southern_df[ 'Trend' ], color = 'purple', alpha = .8, linestyle = '--', label = '' )\n",
    "    \n",
    "    plt.axhline( y = 0, linewidth = 1, color = 'gray', linestyle = '--' )\n",
    "    plt.axhline( y = 0, linewidth = 1, color = 'gray', linestyle = '--' )\n",
    "    plt.title( 'Global Temperature Anomalies - Meteorological Station Data' )\n",
    "    plt.xticks( rotation = 'vertical' )\n",
    "    plt.xlabel( 'Year - Season' )\n",
    "    plt.ylabel( 'Temperature Anomaly Mean' )\n",
    "    plt.grid( linestyle = ':', linewidth = .5 )\n",
    "\n",
    "    for index, row in nino_nina_df.loc[ nino_nina_df[ 'Event' ] == 'El Niño' ].iterrows():\n",
    "        plt.axvspan( row[ 'Period-Min' ], row[ 'Period-Max' ], facecolor = c_nino[ row[ 'Level' ] ], alpha = .8, label = 'El Niño - ' + row[ 'Level' ] )\n",
    "\n",
    "    for index, row in nino_nina_df.loc[ nino_nina_df[ 'Event' ] == 'La Niña' ].iterrows():\n",
    "        plt.axvspan( row[ 'Period-Min' ], row[ 'Period-Max' ], facecolor = c_nina[ row[ 'Level' ] ], alpha = .8, label = 'La Niña - ' + row[ 'Level' ] )\n",
    "\n",
    "    handles, labels = plt.gca().get_legend_handles_labels()\n",
    "    by_label = OrderedDict( zip( labels, handles ) )\n",
    "    plt.legend( by_label.values(), by_label.keys() )\n",
    "\n",
    "    plt.show()\n",
    "    \n",
    "    return None"
   ]
  },
  {
   "cell_type": "code",
   "execution_count": 21,
   "metadata": {},
   "outputs": [
    {
     "data": {
      "application/vnd.jupyter.widget-view+json": {
       "model_id": "f5962226fb7d4d71b0ebec397c0ad7fb",
       "version_major": 2,
       "version_minor": 0
      },
      "text/plain": [
       "interactive(children=(Checkbox(value=True, description='global_selected'), Checkbox(value=False, description='…"
      ]
     },
     "metadata": {},
     "output_type": "display_data"
    }
   ],
   "source": [
    "p = interactive( show_graph, global_selected = True, northern_selected = False, southern_selected = False )\n",
    "display( p )"
   ]
  },
  {
   "cell_type": "code",
   "execution_count": null,
   "metadata": {},
   "outputs": [],
   "source": []
  },
  {
   "cell_type": "code",
   "execution_count": null,
   "metadata": {},
   "outputs": [],
   "source": []
  }
 ],
 "metadata": {
  "kernelspec": {
   "display_name": "Python 3",
   "language": "python",
   "name": "python3"
  },
  "language_info": {
   "codemirror_mode": {
    "name": "ipython",
    "version": 3
   },
   "file_extension": ".py",
   "mimetype": "text/x-python",
   "name": "python",
   "nbconvert_exporter": "python",
   "pygments_lexer": "ipython3",
   "version": "3.6.5"
  }
 },
 "nbformat": 4,
 "nbformat_minor": 2
}
